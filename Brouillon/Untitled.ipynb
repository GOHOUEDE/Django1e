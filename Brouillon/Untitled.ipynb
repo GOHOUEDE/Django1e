{
 "cells": [
  {
   "cell_type": "code",
   "execution_count": 1,
   "id": "75982459",
   "metadata": {},
   "outputs": [
    {
     "name": "stdout",
     "output_type": "stream",
     "text": [
      "age :2\n",
      "on recommence\n",
      "c est egale a 10\n",
      "['ddhdhh', 'ggdggdgg', 'tttt', 'ddhdhh']\n",
      "['ddhdhh', 'hdhdhdhh', 'ggdggdgg', 'tttt', 'ddhdhh']\n",
      "['ddhdhh', 'hdhdhdhh', 'ggdggdgg', 'tttt', 'ddhdhh', '😀😀', 'hshsyhhhsh', 'ehhhhedhhh']\n",
      "['ddhdhh', 'tttt', 'ddhdhh', '😀😀', 'hshsyhhhsh', 'ehhhhedhhh']\n",
      "['ddhdhh', 'ddhdhh', '😀😀', 'hshsyhhhsh', 'ehhhhedhhh']\n",
      " La moyenne 8.5\n",
      " La moyenne 8.5\n"
     ]
    }
   ],
   "source": [
    "import statistics\n",
    "from statistics import mean\n",
    "\n",
    "user=\"Loick\"\n",
    "age =int(input('age :'))\n",
    "age=age+5\n",
    "\n",
    "if age==37:\n",
    "\n",
    "       print(user+ \"  a  \"+ str(age)  +\" ans \")\n",
    "else:\n",
    "      print('on recommence')\n",
    "    \n",
    "u=\"rrrFF\"\n",
    "toto=('c est egale a 10','ce n est pas egale à 10')[u==\"rrr\"]\n",
    "print(toto)\n",
    "\n",
    "List=[\"jjjj\",\"tttt\",\"dddddd\"]\n",
    "\n",
    "List[0]=\"ddhdhh\"\n",
    "List[len(List)-1]=\"ddhdhh\"\n",
    "List.insert(1,\"ggdggdgg\")\n",
    "print(List)\n",
    "List[0:1]=[\"ddhdhh\",\"hdhdhdhh\"]\n",
    "print(List)\n",
    "List.append(\"😀😀\")\n",
    "List.extend([\"hshsyhhhsh\",\"ehhhhedhhh\"])\n",
    "print(List)\n",
    "del List[1]\n",
    "List.pop(1)\n",
    "print(List)\n",
    "List.remove('tttt')\n",
    "print(List)\n",
    "\n",
    "zyae=[2,3,34,3,5,4]\n",
    "moy=statistics.mean(zyae)\n",
    "Moy=mean(zyae)\n",
    "print(\" La moyenne {}\".format(moy))\n",
    "print(\" La moyenne {}\".format(Moy))\n"
   ]
  },
  {
   "cell_type": "code",
   "execution_count": null,
   "id": "de969169",
   "metadata": {},
   "outputs": [],
   "source": []
  },
  {
   "cell_type": "markdown",
   "id": "3dc249d0",
   "metadata": {},
   "source": []
  },
  {
   "cell_type": "code",
   "execution_count": null,
   "id": "8fe1e001",
   "metadata": {},
   "outputs": [],
   "source": []
  },
  {
   "cell_type": "code",
   "execution_count": null,
   "id": "7386db60",
   "metadata": {},
   "outputs": [],
   "source": []
  },
  {
   "cell_type": "code",
   "execution_count": null,
   "id": "c3a032eb",
   "metadata": {},
   "outputs": [],
   "source": []
  },
  {
   "cell_type": "code",
   "execution_count": null,
   "id": "c401c571",
   "metadata": {},
   "outputs": [],
   "source": []
  },
  {
   "cell_type": "code",
   "execution_count": null,
   "id": "bddf1ead",
   "metadata": {},
   "outputs": [],
   "source": []
  },
  {
   "cell_type": "code",
   "execution_count": null,
   "id": "c634c592",
   "metadata": {},
   "outputs": [],
   "source": []
  }
 ],
 "metadata": {
  "kernelspec": {
   "display_name": "Python 3 (ipykernel)",
   "language": "python",
   "name": "python3"
  },
  "language_info": {
   "codemirror_mode": {
    "name": "ipython",
    "version": 3
   },
   "file_extension": ".py",
   "mimetype": "text/x-python",
   "name": "python",
   "nbconvert_exporter": "python",
   "pygments_lexer": "ipython3",
   "version": "3.9.13"
  }
 },
 "nbformat": 4,
 "nbformat_minor": 5
}
