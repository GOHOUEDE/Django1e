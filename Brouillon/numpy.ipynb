{
 "cells": [
  {
   "cell_type": "code",
   "execution_count": 24,
   "id": "f62cf512",
   "metadata": {},
   "outputs": [],
   "source": [
    "import numpy as np\n",
    "arr=[1 ,3 ,4]\n",
    "matrice=np.array([arr,arr,arr])"
   ]
  },
  {
   "cell_type": "code",
   "execution_count": 25,
   "id": "50a5a10a",
   "metadata": {},
   "outputs": [
    {
     "name": "stdout",
     "output_type": "stream",
     "text": [
      "[[1 3 4]\n",
      " [1 3 4]\n",
      " [1 3 4]]\n"
     ]
    }
   ],
   "source": [
    "print(matrice)"
   ]
  },
  {
   "cell_type": "markdown",
   "id": "2db46d9b",
   "metadata": {},
   "source": []
  },
  {
   "cell_type": "code",
   "execution_count": 9,
   "id": "9f85de42",
   "metadata": {},
   "outputs": [
    {
     "name": "stdout",
     "output_type": "stream",
     "text": [
      "[1 2 3 4 5 6 7 8 9]\n"
     ]
    }
   ],
   "source": [
    "vecteur=np.arange(1,10,1)\n",
    "print(vecteur)"
   ]
  },
  {
   "cell_type": "code",
   "execution_count": 26,
   "id": "15512f5f",
   "metadata": {},
   "outputs": [
    {
     "name": "stdout",
     "output_type": "stream",
     "text": [
      "[[1. 0. 0.]\n",
      " [0. 1. 0.]\n",
      " [0. 0. 1.]]\n"
     ]
    }
   ],
   "source": [
    "eye=np.eye(3)\n",
    "eye\n",
    "print(np.linalg.inv(eye))"
   ]
  },
  {
   "cell_type": "code",
   "execution_count": 38,
   "id": "ec6a1242",
   "metadata": {},
   "outputs": [
    {
     "data": {
      "text/plain": [
       "array([1.25, 1.5 , 1.75, 2.  ])"
      ]
     },
     "execution_count": 38,
     "metadata": {},
     "output_type": "execute_result"
    }
   ],
   "source": [
    "lin=np.linspace(1,2,5)\n",
    "lin\n",
    "li=lin >1.2\n",
    "li\n",
    "lip=lin[lin >1]\n",
    "lip"
   ]
  },
  {
   "cell_type": "code",
   "execution_count": 37,
   "id": "6c9fe39c",
   "metadata": {},
   "outputs": [
    {
     "data": {
      "text/plain": [
       "array([[0.62550934, 0.28679224, 0.25993094],\n",
       "       [0.52848772, 0.02909826, 0.07717804],\n",
       "       [0.12825121, 0.31797532, 0.18702898]])"
      ]
     },
     "execution_count": 37,
     "metadata": {},
     "output_type": "execute_result"
    }
   ],
   "source": [
    "ran=np.random.random((3,3))\n",
    "ran"
   ]
  },
  {
   "cell_type": "code",
   "execution_count": 54,
   "id": "51916ba4",
   "metadata": {},
   "outputs": [
    {
     "data": {
      "text/plain": [
       "array([ 2.22222222,  4.44444444,  6.66666667,  8.88888889, 11.11111111,\n",
       "       13.33333333, 15.55555556, 17.77777778, 20.        ])"
      ]
     },
     "execution_count": 54,
     "metadata": {},
     "output_type": "execute_result"
    }
   ],
   "source": [
    "Bg=np.linspace(0,20,10)\n",
    "B=np.where(Bg>2)\n",
    "Bg=Bg[1:10]\n",
    "Bg"
   ]
  },
  {
   "cell_type": "code",
   "execution_count": 56,
   "id": "feb1854f",
   "metadata": {},
   "outputs": [
    {
     "data": {
      "text/plain": [
       "array([[ 2.22222222,  4.44444444,  6.66666667],\n",
       "       [ 8.88888889, 11.11111111, 13.33333333],\n",
       "       [15.55555556, 17.77777778, 20.        ]])"
      ]
     },
     "execution_count": 56,
     "metadata": {},
     "output_type": "execute_result"
    }
   ],
   "source": [
    "Bg=Bg.reshape(3,3)\n",
    "Bg"
   ]
  },
  {
   "cell_type": "code",
   "execution_count": 57,
   "id": "85bb3e7a",
   "metadata": {},
   "outputs": [
    {
     "data": {
      "text/plain": [
       "6.666666666666667"
      ]
     },
     "execution_count": 57,
     "metadata": {},
     "output_type": "execute_result"
    }
   ],
   "source": [
    "Bg[0,-1]"
   ]
  },
  {
   "cell_type": "code",
   "execution_count": null,
   "id": "9534bea0",
   "metadata": {},
   "outputs": [],
   "source": []
  }
 ],
 "metadata": {
  "kernelspec": {
   "display_name": "Python 3 (ipykernel)",
   "language": "python",
   "name": "python3"
  },
  "language_info": {
   "codemirror_mode": {
    "name": "ipython",
    "version": 3
   },
   "file_extension": ".py",
   "mimetype": "text/x-python",
   "name": "python",
   "nbconvert_exporter": "python",
   "pygments_lexer": "ipython3",
   "version": "3.9.13"
  }
 },
 "nbformat": 4,
 "nbformat_minor": 5
}
